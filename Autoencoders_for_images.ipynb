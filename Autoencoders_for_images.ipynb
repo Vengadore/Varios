{
  "nbformat": 4,
  "nbformat_minor": 0,
  "metadata": {
    "kernelspec": {
      "display_name": "Python 3",
      "language": "python",
      "name": "python3"
    },
    "language_info": {
      "codemirror_mode": {
        "name": "ipython",
        "version": 3
      },
      "file_extension": ".py",
      "mimetype": "text/x-python",
      "name": "python",
      "nbconvert_exporter": "python",
      "pygments_lexer": "ipython3",
      "version": "3.6.10"
    },
    "colab": {
      "name": "Autoencoders for images.ipynb",
      "provenance": [],
      "include_colab_link": true
    },
    "accelerator": "GPU"
  },
  "cells": [
    {
      "cell_type": "markdown",
      "metadata": {
        "id": "view-in-github",
        "colab_type": "text"
      },
      "source": [
        "<a href=\"https://colab.research.google.com/github/Vengadore/Varios/blob/master/Autoencoders_for_images.ipynb\" target=\"_parent\"><img src=\"https://colab.research.google.com/assets/colab-badge.svg\" alt=\"Open In Colab\"/></a>"
      ]
    },
    {
      "cell_type": "markdown",
      "metadata": {
        "id": "dX4ephI-cx53",
        "colab_type": "text"
      },
      "source": [
        "# Demostración del uso de un autoencoder para el filtrado"
      ]
    },
    {
      "cell_type": "code",
      "metadata": {
        "id": "S4bBKOUEcwbP",
        "colab_type": "code",
        "colab": {}
      },
      "source": [
        "# Importamos algunas librerias utiles y herramientas\n",
        "import pandas as pd\n",
        "import numpy as np\n",
        "import matplotlib.pyplot as plt"
      ],
      "execution_count": null,
      "outputs": []
    },
    {
      "cell_type": "code",
      "metadata": {
        "id": "ef_TOhNiZXtr",
        "colab_type": "code",
        "colab": {}
      },
      "source": [
        "from tensorflow.keras.datasets import mnist"
      ],
      "execution_count": 2,
      "outputs": []
    },
    {
      "cell_type": "code",
      "metadata": {
        "id": "i7LpxJKJZXty",
        "colab_type": "code",
        "colab": {
          "base_uri": "https://localhost:8080/",
          "height": 54
        },
        "outputId": "e90e0cc6-9054-4e87-ee78-8f7ec3d2fab5"
      },
      "source": [
        "## Para este caso usaremos el dataset de mnist que contiene imagenes de 28x28 de números escritos a mano\n",
        "(X_train,y_train),(X_test,y_test) = mnist.load_data()"
      ],
      "execution_count": 3,
      "outputs": [
        {
          "output_type": "stream",
          "text": [
            "Downloading data from https://storage.googleapis.com/tensorflow/tf-keras-datasets/mnist.npz\n",
            "11493376/11490434 [==============================] - 1s 0us/step\n"
          ],
          "name": "stdout"
        }
      ]
    },
    {
      "cell_type": "code",
      "metadata": {
        "id": "OPxgTOhXZXt2",
        "colab_type": "code",
        "colab": {
          "base_uri": "https://localhost:8080/",
          "height": 283
        },
        "outputId": "44c19d94-cee1-4bb1-d9e4-6a75ff37fe2d"
      },
      "source": [
        "# Este es un elemento del set de entrenamiento\n",
        "plt.imshow(X_train[5])"
      ],
      "execution_count": 4,
      "outputs": [
        {
          "output_type": "execute_result",
          "data": {
            "text/plain": [
              "<matplotlib.image.AxesImage at 0x7fdabd896828>"
            ]
          },
          "metadata": {
            "tags": []
          },
          "execution_count": 4
        },
        {
          "output_type": "display_data",
          "data": {
            "image/png": "[encoded data removed]",
            "text/plain": [
              "<Figure size 432x288 with 1 Axes>"
            ]
          },
          "metadata": {
            "tags": [],
            "needs_background": "light"
          }
        }
      ]
    },
    {
      "cell_type": "code",
      "metadata": {
        "id": "ldkQZWX6ZXt7",
        "colab_type": "code",
        "colab": {}
      },
      "source": [
        "## Reescalamiento de los datos entre 0 y 1\n",
        "X_train = X_train/255.\n",
        "X_test = X_test/255."
      ],
      "execution_count": 5,
      "outputs": []
    },
    {
      "cell_type": "code",
      "metadata": {
        "id": "lGUeWcoBZXt_",
        "colab_type": "code",
        "colab": {}
      },
      "source": [
        "## Importación de las capas de la red\n",
        "from tensorflow.keras.models import Sequential\n",
        "from tensorflow.keras.layers import Dense,Flatten,Reshape\n",
        "from tensorflow.keras.optimizers import SGD"
      ],
      "execution_count": 6,
      "outputs": []
    },
    {
      "cell_type": "markdown",
      "metadata": {
        "id": "Zi848nSgdl0s",
        "colab_type": "text"
      },
      "source": [
        "El *encoder* se encarga de reducir las dimensiones de la información de entrada. Por ejemplo, en este caso se tienen $28 \\times 28$ características en la entrada que se van reduciendo conforme avanza la red, entre más profunda las características menos importantes se van descartando para sólo mantener las más significativas. "
      ]
    },
    {
      "cell_type": "code",
      "metadata": {
        "id": "21uqSdAjZXuE",
        "colab_type": "code",
        "colab": {}
      },
      "source": [
        "encoder = Sequential()\n",
        "encoder.add(Flatten(input_shape = [28,28]))\n",
        "encoder.add(Dense(400,activation = \"relu\"))\n",
        "encoder.add(Dense(200,activation = \"relu\"))\n",
        "encoder.add(Dense(100,activation = \"relu\"))\n",
        "encoder.add(Dense(50,activation = \"relu\"))\n",
        "encoder.add(Dense(25,activation = \"relu\"))"
      ],
      "execution_count": 7,
      "outputs": []
    },
    {
      "cell_type": "markdown",
      "metadata": {
        "id": "EFtDN2gTeUpp",
        "colab_type": "text"
      },
      "source": [
        "El *decoder* toma las características más significativas, es decir, las que realmente representan a la imagen de entrada y trata de recrear la imagen a la salida. Notese que la salida es una matriz del mismo tamaño de la entrada"
      ]
    },
    {
      "cell_type": "code",
      "metadata": {
        "id": "OZ8qv72RZXuH",
        "colab_type": "code",
        "colab": {}
      },
      "source": [
        "decoder = Sequential()\n",
        "decoder.add(Dense(50,input_shape =[25],activation = \"relu\"))\n",
        "decoder.add(Dense(100,activation = \"relu\"))\n",
        "decoder.add(Dense(200,activation = \"relu\"))\n",
        "decoder.add(Dense(400,activation = \"relu\"))\n",
        "decoder.add(Dense(784,activation = \"sigmoid\"))\n",
        "decoder.add(Reshape([28,28]))"
      ],
      "execution_count": 8,
      "outputs": []
    },
    {
      "cell_type": "markdown",
      "metadata": {
        "id": "zmInAn_ve0Kv",
        "colab_type": "text"
      },
      "source": [
        "Uniendo ambas redes se crea un autoencoder"
      ]
    },
    {
      "cell_type": "code",
      "metadata": {
        "id": "iLSlAgfpZXuK",
        "colab_type": "code",
        "colab": {}
      },
      "source": [
        "autoencoder = Sequential([encoder,decoder])"
      ],
      "execution_count": 9,
      "outputs": []
    },
    {
      "cell_type": "code",
      "metadata": {
        "id": "NstVlm2nZXuO",
        "colab_type": "code",
        "colab": {}
      },
      "source": [
        "autoencoder.compile(loss=\"binary_crossentropy\",\n",
        "                    optimizer = SGD(lr=1.5),\n",
        "                    metrics = ['accuracy'])"
      ],
      "execution_count": 10,
      "outputs": []
    },
    {
      "cell_type": "markdown",
      "metadata": {
        "id": "4muTT-lle6Q1",
        "colab_type": "text"
      },
      "source": [
        "En este caso los datos de entrenamiento para la entrada $X$ serán la imagen original y al mismo tiempo la salida $y$ será lo mismo que la entrada. \n",
        "Lo anterior puede ser interpretado de manera simple como: \"toma esta imagen, aprende los datos más importantes de ella y vuelve a crearla\".\n"
      ]
    },
    {
      "cell_type": "code",
      "metadata": {
        "id": "Df-iuz3HZXuY",
        "colab_type": "code",
        "colab": {
          "base_uri": "https://localhost:8080/",
          "height": 405
        },
        "outputId": "befacc9e-9bbf-44c0-f9c9-ad2dc9e4afab"
      },
      "source": [
        "autoencoder.fit(X_train,X_train,epochs = 10)"
      ],
      "execution_count": 11,
      "outputs": [
        {
          "output_type": "stream",
          "text": [
            "Epoch 1/10\n",
            "1875/1875 [==============================] - 5s 2ms/step - loss: 0.2509 - accuracy: 0.0890\n",
            "Epoch 2/10\n",
            "1875/1875 [==============================] - 5s 2ms/step - loss: 0.1968 - accuracy: 0.1511\n",
            "Epoch 3/10\n",
            "1875/1875 [==============================] - 4s 2ms/step - loss: 0.1654 - accuracy: 0.1941\n",
            "Epoch 4/10\n",
            "1875/1875 [==============================] - 4s 2ms/step - loss: 0.1494 - accuracy: 0.2182\n",
            "Epoch 5/10\n",
            "1875/1875 [==============================] - 5s 2ms/step - loss: 0.1430 - accuracy: 0.2272\n",
            "Epoch 6/10\n",
            "1875/1875 [==============================] - 4s 2ms/step - loss: 0.1372 - accuracy: 0.2330\n",
            "Epoch 7/10\n",
            "1875/1875 [==============================] - 5s 2ms/step - loss: 0.1319 - accuracy: 0.2395\n",
            "Epoch 8/10\n",
            "1875/1875 [==============================] - 4s 2ms/step - loss: 0.1276 - accuracy: 0.2446\n",
            "Epoch 9/10\n",
            "1875/1875 [==============================] - 5s 2ms/step - loss: 0.1243 - accuracy: 0.2490\n",
            "Epoch 10/10\n",
            "1875/1875 [==============================] - 4s 2ms/step - loss: 0.1216 - accuracy: 0.2524\n"
          ],
          "name": "stdout"
        },
        {
          "output_type": "execute_result",
          "data": {
            "text/plain": [
              "<tensorflow.python.keras.callbacks.History at 0x7fdabe0d07f0>"
            ]
          },
          "metadata": {
            "tags": []
          },
          "execution_count": 11
        }
      ]
    },
    {
      "cell_type": "markdown",
      "metadata": {
        "id": "U2IeKPRofjj3",
        "colab_type": "text"
      },
      "source": [
        "Ahora tomaremos 10 imagenes del set de test (estos nunca han sido vistos por el autoencoder) y haremos que extraiga los datos más importantes y la vuelva a recrear."
      ]
    },
    {
      "cell_type": "code",
      "metadata": {
        "id": "iOKCcQJNZXud",
        "colab_type": "code",
        "colab": {}
      },
      "source": [
        "passed_images = autoencoder.predict(X_test[:10])"
      ],
      "execution_count": 12,
      "outputs": []
    },
    {
      "cell_type": "code",
      "metadata": {
        "id": "gddgfMbFZXug",
        "colab_type": "code",
        "colab": {
          "base_uri": "https://localhost:8080/",
          "height": 488
        },
        "outputId": "ae35c28c-b471-44f9-fa54-c8dd62011136"
      },
      "source": [
        "n = 2\n",
        "\n",
        "fig,axs = plt.subplots(1,2,figsize = (16,8))\n",
        "axs[0].imshow(X_test[n])\n",
        "axs[0].set_title(\"Original Image\")\n",
        "\n",
        "axs[1].imshow(passed_images[n])\n",
        "axs[1].set_title(\"Attempted Reconstruction (after autoencoder)\")\n"
      ],
      "execution_count": 13,
      "outputs": [
        {
          "output_type": "execute_result",
          "data": {
            "text/plain": [
              "Text(0.5, 1.0, 'Attempted Reconstruction (after autoencoder)')"
            ]
          },
          "metadata": {
            "tags": []
          },
          "execution_count": 13
        },
        {
          "output_type": "display_data",
          "data": {
            "image/png": "[encoded data removed]",
            "text/plain": [
              "<Figure size 1152x576 with 2 Axes>"
            ]
          },
          "metadata": {
            "tags": [],
            "needs_background": "light"
          }
        }
      ]
    },
    {
      "cell_type": "markdown",
      "metadata": {
        "id": "SnOEntFXf1mw",
        "colab_type": "text"
      },
      "source": [
        "## Ruido en la imagen\n",
        "\n",
        "Ahora probemos tomando las imagenes y agregando ruido a dichas imagenes"
      ]
    },
    {
      "cell_type": "code",
      "metadata": {
        "id": "o27ACa_cZXul",
        "colab_type": "code",
        "colab": {}
      },
      "source": [
        "from tensorflow.keras.layers import GaussianNoise"
      ],
      "execution_count": 14,
      "outputs": []
    },
    {
      "cell_type": "code",
      "metadata": {
        "id": "t-nOvkVKZXun",
        "colab_type": "code",
        "colab": {}
      },
      "source": [
        "sample = GaussianNoise(0.2)"
      ],
      "execution_count": 15,
      "outputs": []
    },
    {
      "cell_type": "code",
      "metadata": {
        "id": "qr99h3htZXus",
        "colab_type": "code",
        "colab": {
          "base_uri": "https://localhost:8080/",
          "height": 148
        },
        "outputId": "3e916457-8ca5-461c-b6f7-e2ed964c3bfd"
      },
      "source": [
        "noisy = sample(X_test[:10],training = True)"
      ],
      "execution_count": 16,
      "outputs": [
        {
          "output_type": "stream",
          "text": [
            "WARNING:tensorflow:Layer gaussian_noise is casting an input tensor from dtype float64 to the layer's dtype of float32, which is new behavior in TensorFlow 2.  The layer has dtype float32 because its dtype defaults to floatx.\n",
            "\n",
            "If you intended to run this layer in float32, you can safely ignore this warning. If in doubt, this warning is likely only an issue if you are porting a TensorFlow 1.X model to TensorFlow 2.\n",
            "\n",
            "To change all layers to have dtype float64 by default, call `tf.keras.backend.set_floatx('float64')`. To change just this layer, pass dtype='float64' to the layer constructor. If you are the author of this layer, you can disable autocasting by passing autocast=False to the base Layer constructor.\n",
            "\n"
          ],
          "name": "stdout"
        }
      ]
    },
    {
      "cell_type": "markdown",
      "metadata": {
        "id": "lcWLukc0f9k4",
        "colab_type": "text"
      },
      "source": [
        "A la izquierda podemos observar la imagen original y a la derecha la imagen con ruido gaussiano. Aún es posible observar el número pero hay muchas otras cosas pasando en la imagen."
      ]
    },
    {
      "cell_type": "code",
      "metadata": {
        "id": "rbdtoiV0ZXuu",
        "colab_type": "code",
        "colab": {
          "base_uri": "https://localhost:8080/",
          "height": 488
        },
        "outputId": "f5f53133-a2aa-47c4-f51d-5aa954af3044"
      },
      "source": [
        "n = 0\n",
        "\n",
        "fig,axs = plt.subplots(1,2,figsize = (16,8))\n",
        "axs[0].imshow(X_test[n])\n",
        "axs[0].set_title(\"ORIGINAL\")\n",
        "\n",
        "axs[1].imshow(noisy[n])\n",
        "axs[1].set_title(\"NOISE VERSION\")\n"
      ],
      "execution_count": 27,
      "outputs": [
        {
          "output_type": "execute_result",
          "data": {
            "text/plain": [
              "Text(0.5, 1.0, 'NOISE VERSION')"
            ]
          },
          "metadata": {
            "tags": []
          },
          "execution_count": 27
        },
        {
          "output_type": "display_data",
          "data": {
            "image/png": "[encoded data removed]",
            "text/plain": [
              "<Figure size 1152x576 with 2 Axes>"
            ]
          },
          "metadata": {
            "tags": [],
            "needs_background": "light"
          }
        }
      ]
    },
    {
      "cell_type": "markdown",
      "metadata": {
        "id": "h_XadGatgYgp",
        "colab_type": "text"
      },
      "source": [
        "Ahora crearemos un autoencoder nuevamente. Para no procesar antes las imágenes simplemente introduciremos una capa de ruido al inicio, este es lo mismo que decirle a la red que de la entrada es la imagen con ruido y a la salida lo que queremos es la imagen sin el ruido."
      ]
    },
    {
      "cell_type": "code",
      "metadata": {
        "id": "bPk9S7pTZXux",
        "colab_type": "code",
        "colab": {}
      },
      "source": [
        "encoder = Sequential()\n",
        "encoder.add(Flatten(input_shape = [28,28]))\n",
        "\n",
        "encoder.add(GaussianNoise(0.2))\n",
        "\n",
        "encoder.add(Dense(400,activation = \"relu\"))\n",
        "encoder.add(Dense(200,activation = \"relu\"))\n",
        "encoder.add(Dense(100,activation = \"relu\"))\n",
        "encoder.add(Dense(50,activation = \"relu\"))\n",
        "encoder.add(Dense(25,activation = \"relu\"))"
      ],
      "execution_count": 28,
      "outputs": []
    },
    {
      "cell_type": "code",
      "metadata": {
        "id": "SzT3MRgsZXuz",
        "colab_type": "code",
        "colab": {}
      },
      "source": [
        "decoder = Sequential()\n",
        "decoder.add(Dense(50,input_shape =[25],activation = \"relu\"))\n",
        "decoder.add(Dense(100,activation = \"relu\"))\n",
        "decoder.add(Dense(200,activation = \"relu\"))\n",
        "decoder.add(Dense(400,activation = \"relu\"))\n",
        "decoder.add(Dense(784,activation = \"sigmoid\"))\n",
        "decoder.add(Reshape([28,28]))"
      ],
      "execution_count": 29,
      "outputs": []
    },
    {
      "cell_type": "code",
      "metadata": {
        "id": "PgOtl_MKZXu2",
        "colab_type": "code",
        "colab": {}
      },
      "source": [
        "autoencoder = Sequential([encoder,decoder])"
      ],
      "execution_count": 30,
      "outputs": []
    },
    {
      "cell_type": "code",
      "metadata": {
        "id": "oslNkL8sZXu4",
        "colab_type": "code",
        "colab": {}
      },
      "source": [
        "autoencoder.compile(loss=\"binary_crossentropy\",\n",
        "                    optimizer = SGD(lr=1.5),\n",
        "                    metrics = ['accuracy'])"
      ],
      "execution_count": 31,
      "outputs": []
    },
    {
      "cell_type": "markdown",
      "metadata": {
        "id": "oB9vv7mlhIgB",
        "colab_type": "text"
      },
      "source": [
        "Nuevamente la entrada y salida de la red son lo mismo, sólo que en este caso a la entrada se le agregará el ruido gaussiano y a la salida se pedirá que salga limpia."
      ]
    },
    {
      "cell_type": "code",
      "metadata": {
        "id": "eIOdzI_XZXu-",
        "colab_type": "code",
        "colab": {
          "base_uri": "https://localhost:8080/",
          "height": 1000
        },
        "outputId": "350e0a7e-4b0c-4c00-b86c-67ee9d6b329b"
      },
      "source": [
        "autoencoder.fit(X_train,X_train,epochs = 50)"
      ],
      "execution_count": 32,
      "outputs": [
        {
          "output_type": "stream",
          "text": [
            "Epoch 1/50\n",
            "1875/1875 [==============================] - 4s 2ms/step - loss: 0.2485 - accuracy: 0.0908\n",
            "Epoch 2/50\n",
            "1875/1875 [==============================] - 5s 3ms/step - loss: 0.1936 - accuracy: 0.1488\n",
            "Epoch 3/50\n",
            "1875/1875 [==============================] - 5s 3ms/step - loss: 0.1650 - accuracy: 0.1893\n",
            "Epoch 4/50\n",
            "1875/1875 [==============================] - 5s 2ms/step - loss: 0.1539 - accuracy: 0.2046\n",
            "Epoch 5/50\n",
            "1875/1875 [==============================] - 5s 2ms/step - loss: 0.1466 - accuracy: 0.2154\n",
            "Epoch 6/50\n",
            "1875/1875 [==============================] - 5s 3ms/step - loss: 0.1419 - accuracy: 0.2224\n",
            "Epoch 7/50\n",
            "1875/1875 [==============================] - 4s 2ms/step - loss: 0.1368 - accuracy: 0.2274\n",
            "Epoch 8/50\n",
            "1875/1875 [==============================] - 5s 2ms/step - loss: 0.1319 - accuracy: 0.2330\n",
            "Epoch 9/50\n",
            "1875/1875 [==============================] - 4s 2ms/step - loss: 0.1285 - accuracy: 0.2379\n",
            "Epoch 10/50\n",
            "1875/1875 [==============================] - 5s 2ms/step - loss: 0.1262 - accuracy: 0.2419\n",
            "Epoch 11/50\n",
            "1875/1875 [==============================] - 5s 3ms/step - loss: 0.1240 - accuracy: 0.2444\n",
            "Epoch 12/50\n",
            "1875/1875 [==============================] - 5s 2ms/step - loss: 0.1219 - accuracy: 0.2480\n",
            "Epoch 13/50\n",
            "1875/1875 [==============================] - 5s 2ms/step - loss: 0.1201 - accuracy: 0.2505\n",
            "Epoch 14/50\n",
            "1875/1875 [==============================] - 4s 2ms/step - loss: 0.1187 - accuracy: 0.2530\n",
            "Epoch 15/50\n",
            "1875/1875 [==============================] - 5s 3ms/step - loss: 0.1174 - accuracy: 0.2546\n",
            "Epoch 16/50\n",
            "1875/1875 [==============================] - 4s 2ms/step - loss: 0.1162 - accuracy: 0.2563\n",
            "Epoch 17/50\n",
            "1875/1875 [==============================] - 4s 2ms/step - loss: 0.1152 - accuracy: 0.2584\n",
            "Epoch 18/50\n",
            "1875/1875 [==============================] - 4s 2ms/step - loss: 0.1142 - accuracy: 0.2591\n",
            "Epoch 19/50\n",
            "1875/1875 [==============================] - 5s 2ms/step - loss: 0.1134 - accuracy: 0.2612\n",
            "Epoch 20/50\n",
            "1875/1875 [==============================] - 5s 3ms/step - loss: 0.1125 - accuracy: 0.2623\n",
            "Epoch 21/50\n",
            "1875/1875 [==============================] - 5s 3ms/step - loss: 0.1117 - accuracy: 0.2640\n",
            "Epoch 22/50\n",
            "1875/1875 [==============================] - 5s 3ms/step - loss: 0.1109 - accuracy: 0.2651\n",
            "Epoch 23/50\n",
            "1875/1875 [==============================] - 5s 2ms/step - loss: 0.1102 - accuracy: 0.2666\n",
            "Epoch 24/50\n",
            "1875/1875 [==============================] - 4s 2ms/step - loss: 0.1097 - accuracy: 0.2678\n",
            "Epoch 25/50\n",
            "1875/1875 [==============================] - 5s 2ms/step - loss: 0.1091 - accuracy: 0.2688\n",
            "Epoch 26/50\n",
            "1875/1875 [==============================] - 5s 3ms/step - loss: 0.1084 - accuracy: 0.2702\n",
            "Epoch 27/50\n",
            "1875/1875 [==============================] - 4s 2ms/step - loss: 0.1078 - accuracy: 0.2709\n",
            "Epoch 28/50\n",
            "1875/1875 [==============================] - 5s 3ms/step - loss: 0.1073 - accuracy: 0.2713\n",
            "Epoch 29/50\n",
            "1875/1875 [==============================] - 5s 3ms/step - loss: 0.1067 - accuracy: 0.2724\n",
            "Epoch 30/50\n",
            "1875/1875 [==============================] - 5s 2ms/step - loss: 0.1064 - accuracy: 0.2728\n",
            "Epoch 31/50\n",
            "1875/1875 [==============================] - 4s 2ms/step - loss: 0.1058 - accuracy: 0.2747\n",
            "Epoch 32/50\n",
            "1875/1875 [==============================] - 5s 3ms/step - loss: 0.1052 - accuracy: 0.2749\n",
            "Epoch 33/50\n",
            "1875/1875 [==============================] - 5s 3ms/step - loss: 0.1048 - accuracy: 0.2757\n",
            "Epoch 34/50\n",
            "1875/1875 [==============================] - 5s 3ms/step - loss: 0.1044 - accuracy: 0.2764\n",
            "Epoch 35/50\n",
            "1875/1875 [==============================] - 5s 3ms/step - loss: 0.1041 - accuracy: 0.2774\n",
            "Epoch 36/50\n",
            "1875/1875 [==============================] - 5s 2ms/step - loss: 0.1037 - accuracy: 0.2781\n",
            "Epoch 37/50\n",
            "1875/1875 [==============================] - 5s 3ms/step - loss: 0.1033 - accuracy: 0.2789\n",
            "Epoch 38/50\n",
            "1875/1875 [==============================] - 5s 3ms/step - loss: 0.1029 - accuracy: 0.2796\n",
            "Epoch 39/50\n",
            "1875/1875 [==============================] - 5s 3ms/step - loss: 0.1025 - accuracy: 0.2807\n",
            "Epoch 40/50\n",
            "1875/1875 [==============================] - 5s 3ms/step - loss: 0.1023 - accuracy: 0.2810\n",
            "Epoch 41/50\n",
            "1875/1875 [==============================] - 5s 3ms/step - loss: 0.1020 - accuracy: 0.2816\n",
            "Epoch 42/50\n",
            "1875/1875 [==============================] - 5s 2ms/step - loss: 0.1016 - accuracy: 0.2820\n",
            "Epoch 43/50\n",
            "1875/1875 [==============================] - 5s 2ms/step - loss: 0.1013 - accuracy: 0.2826\n",
            "Epoch 44/50\n",
            "1875/1875 [==============================] - 5s 3ms/step - loss: 0.1010 - accuracy: 0.2833\n",
            "Epoch 45/50\n",
            "1875/1875 [==============================] - 6s 3ms/step - loss: 0.1007 - accuracy: 0.2832\n",
            "Epoch 46/50\n",
            "1875/1875 [==============================] - 6s 3ms/step - loss: 0.1004 - accuracy: 0.2842\n",
            "Epoch 47/50\n",
            "1875/1875 [==============================] - 5s 2ms/step - loss: 0.1002 - accuracy: 0.2845\n",
            "Epoch 48/50\n",
            "1875/1875 [==============================] - 5s 3ms/step - loss: 0.0999 - accuracy: 0.2853\n",
            "Epoch 49/50\n",
            "1875/1875 [==============================] - 5s 3ms/step - loss: 0.0996 - accuracy: 0.2854\n",
            "Epoch 50/50\n",
            "1875/1875 [==============================] - 5s 3ms/step - loss: 0.0994 - accuracy: 0.2859\n"
          ],
          "name": "stdout"
        },
        {
          "output_type": "execute_result",
          "data": {
            "text/plain": [
              "<tensorflow.python.keras.callbacks.History at 0x7fda408e7ef0>"
            ]
          },
          "metadata": {
            "tags": []
          },
          "execution_count": 32
        }
      ]
    },
    {
      "cell_type": "markdown",
      "metadata": {
        "id": "LeFxkNJugtZW",
        "colab_type": "text"
      },
      "source": [
        "Ahora tomemos 10 imagenes de nuestro set de test y agregemosle ruido, el objetivo es volver a reconstruir la imagen pero sin el ruido."
      ]
    },
    {
      "cell_type": "code",
      "metadata": {
        "id": "IPhPoqdBZXvB",
        "colab_type": "code",
        "colab": {}
      },
      "source": [
        "ten_noisy_images = sample(X_test[:10],training=True)"
      ],
      "execution_count": 33,
      "outputs": []
    },
    {
      "cell_type": "code",
      "metadata": {
        "id": "HGmjMvGqZXvG",
        "colab_type": "code",
        "colab": {}
      },
      "source": [
        "denoised = autoencoder.predict(ten_noisy_images)"
      ],
      "execution_count": 34,
      "outputs": []
    },
    {
      "cell_type": "markdown",
      "metadata": {
        "id": "V5-bdqzag3Ls",
        "colab_type": "text"
      },
      "source": [
        "Podemos ver que la imagen con ruido a la izquierda (a esta imagen se le volvió a agregar ruido dentro de la misma red!!). A la derecha es la imagen reconstruida, se puede ver que la red aprendió los detalles importantes para la reconstrucción y los valores del ruido los eliminó porque no eran escenciales para la reconstrucción de la imagen."
      ]
    },
    {
      "cell_type": "code",
      "metadata": {
        "id": "jXcRClj_ZXvJ",
        "colab_type": "code",
        "colab": {
          "base_uri": "https://localhost:8080/",
          "height": 488
        },
        "outputId": "a73c6af1-4d4a-402f-e1e0-3aaf9c9dd92c"
      },
      "source": [
        "n = 3\n",
        "\n",
        "fig,axs = plt.subplots(1,2,figsize = (16,8))\n",
        "axs[0].imshow(ten_noisy_images[n])\n",
        "axs[0].set_title(\"Original noisy Image\")\n",
        "\n",
        "axs[1].imshow(denoised[n])\n",
        "axs[1].set_title(\"Attempted Reconstruction (after autoencoder)\")"
      ],
      "execution_count": 36,
      "outputs": [
        {
          "output_type": "execute_result",
          "data": {
            "text/plain": [
              "Text(0.5, 1.0, 'Attempted Reconstruction (after autoencoder)')"
            ]
          },
          "metadata": {
            "tags": []
          },
          "execution_count": 36
        },
        {
          "output_type": "display_data",
          "data": {
            "image/png": "[encoded data removed]",
            "text/plain": [
              "<Figure size 1152x576 with 2 Axes>"
            ]
          },
          "metadata": {
            "tags": [],
            "needs_background": "light"
          }
        }
      ]
    },
    {
      "cell_type": "code",
      "metadata": {
        "id": "abJWcocLZXvL",
        "colab_type": "code",
        "colab": {}
      },
      "source": [
        "autoencoder.summary()"
      ],
      "execution_count": null,
      "outputs": []
    },
    {
      "cell_type": "code",
      "metadata": {
        "id": "UC4k5VsAZXvP",
        "colab_type": "code",
        "colab": {}
      },
      "source": [
        ""
      ],
      "execution_count": null,
      "outputs": []
    }
  ]
}